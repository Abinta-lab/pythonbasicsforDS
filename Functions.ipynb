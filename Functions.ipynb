{
  "nbformat": 4,
  "nbformat_minor": 0,
  "metadata": {
    "colab": {
      "provenance": []
    },
    "kernelspec": {
      "name": "python3",
      "display_name": "Python 3"
    },
    "language_info": {
      "name": "python"
    }
  },
  "cells": [
    {
      "cell_type": "markdown",
      "source": [
        "#Functions"
      ],
      "metadata": {
        "id": "o9YWXxERpGht"
      }
    },
    {
      "cell_type": "markdown",
      "source": [
        "In math, functions transfrom an input to an output as defined by the property of the function.\n",
        "In programming, functions can do exactly this, but are also used to execute “subroutines”, i.e., to execute pieces of code in various order and under various conditions. Functions in programming are very important for structuring and modularizing code.\n",
        "\n",
        "In computer science, functions are also called “procedures” and “methods” (there are subtle distinctions, but nothing we need to worry about at this time).\n",
        "\n",
        "The following Python function, for example, provides the output of the above defined function for every valid input:"
      ],
      "metadata": {
        "id": "SlJDwcDGpMO6"
      }
    },
    {
      "cell_type": "code",
      "execution_count": 1,
      "metadata": {
        "id": "Es-37a20pE9K"
      },
      "outputs": [],
      "source": [
        "def f(x):\n",
        "    result = x ** 2 + 3 \n",
        "    return result"
      ]
    },
    {
      "cell_type": "markdown",
      "source": [
        "We can now run this function with multiple input values:"
      ],
      "metadata": {
        "id": "iv6gf0iZpYwI"
      }
    },
    {
      "cell_type": "code",
      "source": [
        "print(f(2))\n",
        "print(f(3))\n",
        "f(5)"
      ],
      "metadata": {
        "colab": {
          "base_uri": "https://localhost:8080/"
        },
        "id": "Mc8l6kzKpWZW",
        "outputId": "ec46327f-5447-4fc6-cad0-96c45723462c"
      },
      "execution_count": 2,
      "outputs": [
        {
          "output_type": "stream",
          "name": "stdout",
          "text": [
            "7\n",
            "12\n"
          ]
        },
        {
          "output_type": "execute_result",
          "data": {
            "text/plain": [
              "28"
            ]
          },
          "metadata": {},
          "execution_count": 2
        }
      ]
    },
    {
      "cell_type": "markdown",
      "source": [
        "Note that the lines of code that belong to a function are intended by four spaces (you can hit tab to intend, but it will be converted to four spaces). Python defines the scope of a function using intendation. Many other programming languages use curly brackets {} to do this.\n",
        "\n",
        "A function is ended by a new line.\n",
        "\n",
        "For example, the same function wouldn't work like this:"
      ],
      "metadata": {
        "id": "MtGkZ8pwpkGd"
      }
    },
    {
      "cell_type": "code",
      "source": [
        "def f(x):\n",
        "    result = x ** 2 + 3\n",
        "# Throws a NameError becauser result isn't defined outside the function\n",
        "return result"
      ],
      "metadata": {
        "colab": {
          "base_uri": "https://localhost:8080/",
          "height": 134
        },
        "id": "dBZ2lJOLpb-d",
        "outputId": "bb1d8a92-9386-48fc-e27f-10d8db622e74"
      },
      "execution_count": 3,
      "outputs": [
        {
          "output_type": "error",
          "ename": "SyntaxError",
          "evalue": "ignored",
          "traceback": [
            "\u001b[0;36m  File \u001b[0;32m\"<ipython-input-3-c8a53c47dd53>\"\u001b[0;36m, line \u001b[0;32m4\u001b[0m\n\u001b[0;31m    return result\u001b[0m\n\u001b[0m    ^\u001b[0m\n\u001b[0;31mSyntaxError\u001b[0m\u001b[0;31m:\u001b[0m 'return' outside function\n"
          ]
        }
      ]
    },
    {
      "cell_type": "code",
      "source": [
        "def f(x):\n",
        "    result = x ** 2 + 3\n",
        "    # Throws an IndentationError\n",
        "        return result"
      ],
      "metadata": {
        "colab": {
          "base_uri": "https://localhost:8080/",
          "height": 134
        },
        "id": "hO_ncmvWpm5Q",
        "outputId": "e0d8eab9-9904-49d8-f550-f97c84590769"
      },
      "execution_count": 4,
      "outputs": [
        {
          "output_type": "error",
          "ename": "IndentationError",
          "evalue": "ignored",
          "traceback": [
            "\u001b[0;36m  File \u001b[0;32m\"<ipython-input-4-acac10b7d5db>\"\u001b[0;36m, line \u001b[0;32m4\u001b[0m\n\u001b[0;31m    return result\u001b[0m\n\u001b[0m    ^\u001b[0m\n\u001b[0;31mIndentationError\u001b[0m\u001b[0;31m:\u001b[0m unexpected indent\n"
          ]
        }
      ]
    },
    {
      "cell_type": "code",
      "source": [],
      "metadata": {
        "id": "S-IQwFLWptAi"
      },
      "execution_count": null,
      "outputs": []
    }
  ]
}