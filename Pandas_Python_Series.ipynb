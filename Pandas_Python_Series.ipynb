{
  "nbformat": 4,
  "nbformat_minor": 0,
  "metadata": {
    "colab": {
      "provenance": []
    },
    "kernelspec": {
      "name": "python3",
      "display_name": "Python 3"
    },
    "language_info": {
      "name": "python"
    }
  },
  "cells": [
    {
      "cell_type": "markdown",
      "source": [
        "#**Python Pandas - Introduction**\n",
        "Pandas is an open-source Python Library providing high-performance data manipulation and analysis tool using its powerful data structures.\n",
        "\n",
        "Using Pandas, we can accomplish five typical steps in the processing and analysis of data, regardless of the origin of data — load, prepare, manipulate, model, and analyze.\n",
        "\n",
        "*Python with Pandas is used in a wide range of fields including academic and commercial domains including finance, economics, Statistics, analytics, etc.*"
      ],
      "metadata": {
        "id": "WTdMPZCJB0lx"
      }
    },
    {
      "cell_type": "markdown",
      "source": [
        "#Key Features of Pandas\n",
        "1.   Fast and efficient DataFrame object with default and customized indexing.\n",
        "2.   Tools for loading data into in-memory data objects from different file formats.\n",
        "3.   Data alignment and integrated handling of missing data.\n",
        "4.   Reshaping and pivoting of date sets.\n",
        "5.   Label-based slicing, indexing and subsetting of large data sets.\n",
        "6.   Columns from a data structure can be deleted or inserted.\n",
        "7.   Group by data for aggregation and transformations.\n",
        "8.   High performance merging and joining of data.\n",
        "9.   Time Series functionality."
      ],
      "metadata": {
        "id": "hCwpHePSCuyy"
      }
    },
    {
      "cell_type": "markdown",
      "source": [
        "#Python Pandas - Environment Setup\n",
        "\n",
        "Standard Python distribution doesn't come bundled with Pandas module. A lightweight alternative is to install NumPy using popular Python package installer, ***pip.***\n",
        "**pip install pandas**\n",
        "If you install Anaconda Python package, Pandas will be installed by default"
      ],
      "metadata": {
        "id": "sqd9-YaTDWGd"
      }
    },
    {
      "cell_type": "markdown",
      "source": [
        "#Introduction to Data Structures\n",
        "\n",
        "Pandas deals with the following three data structures −\n",
        "\n",
        "1. Series\n",
        "2. DataFrame\n",
        "3. Panel\n",
        "\n",
        "These data structures are built on top of Numpy array, which means they are fast"
      ],
      "metadata": {
        "id": "zax4u-sOD3ai"
      }
    },
    {
      "cell_type": "markdown",
      "source": [
        "Series is a one-dimensional labeled array capable of holding data of any type (integer, string, float, python objects, etc.). The axis labels are collectively called index.\n",
        "\n",
        "DataFrame: is a two-dimensional array with heterogeneous data. \n",
        "The table represents the data of a sales team of an organization with their overall performance rating. The data is represented in rows and columns. Each column represents an attribute and each row represents a person."
      ],
      "metadata": {
        "id": "biMTwLrXkgDP"
      }
    },
    {
      "cell_type": "code",
      "source": [
        "import pandas as pd\n",
        "import numpy as np"
      ],
      "metadata": {
        "id": "3f2yzECcu5La"
      },
      "execution_count": 1,
      "outputs": []
    },
    {
      "cell_type": "code",
      "source": [
        "#pandas.Series( data, index, dtype, copy)\n",
        "s = pd.Series()  \n",
        "print(s)"
      ],
      "metadata": {
        "colab": {
          "base_uri": "https://localhost:8080/"
        },
        "id": "7oTKxN0mDXDY",
        "outputId": "21562fed-272c-42d5-b045-91b40e256fcc"
      },
      "execution_count": 14,
      "outputs": [
        {
          "output_type": "stream",
          "name": "stdout",
          "text": [
            "Series([], dtype: float64)\n"
          ]
        },
        {
          "output_type": "stream",
          "name": "stderr",
          "text": [
            "<ipython-input-14-7b3959d39d6d>:2: DeprecationWarning: The default dtype for empty Series will be 'object' instead of 'float64' in a future version. Specify a dtype explicitly to silence this warning.\n",
            "  s = pd.Series()\n"
          ]
        }
      ]
    },
    {
      "cell_type": "code",
      "source": [
        "data = np.array(['a','b','c','d'])\n",
        "s = pd.Series(data)\n",
        "print(s)"
      ],
      "metadata": {
        "colab": {
          "base_uri": "https://localhost:8080/"
        },
        "id": "0G6R_kRQu7w2",
        "outputId": "6d0139a3-734e-48d5-a514-7eb3449931e2"
      },
      "execution_count": 15,
      "outputs": [
        {
          "output_type": "stream",
          "name": "stdout",
          "text": [
            "0    a\n",
            "1    b\n",
            "2    c\n",
            "3    d\n",
            "dtype: object\n"
          ]
        }
      ]
    },
    {
      "cell_type": "code",
      "source": [
        "data = np.array(['a','b','c','d'])\n",
        "s = pd.Series(data,index=[100,101,102,103])\n",
        "print(s)"
      ],
      "metadata": {
        "colab": {
          "base_uri": "https://localhost:8080/"
        },
        "id": "VXMZsjX5vCIH",
        "outputId": "870ea353-7ebc-4ffd-cabe-b8a494461ed0"
      },
      "execution_count": 7,
      "outputs": [
        {
          "output_type": "stream",
          "name": "stdout",
          "text": [
            "100    a\n",
            "101    b\n",
            "102    c\n",
            "103    d\n",
            "dtype: object\n"
          ]
        }
      ]
    },
    {
      "cell_type": "markdown",
      "source": [
        "Create a Series from dict:\n",
        "A dict can be passed as input and if no index is specified, then the dictionary keys are taken in a sorted order to construct index. If index is passed, the values in data corresponding to the labels in the index will be pulled out."
      ],
      "metadata": {
        "id": "JUVVbts1vyxw"
      }
    },
    {
      "cell_type": "code",
      "source": [
        "data = {'a' : 0., 'b' : 1., 'c' : 2.}\n",
        "s = pd.Series(data)\n",
        "print(s)"
      ],
      "metadata": {
        "colab": {
          "base_uri": "https://localhost:8080/"
        },
        "id": "BVPTVh1fvQmO",
        "outputId": "ee3deedf-fd0e-4e1c-d03d-edc4f3e3cebf"
      },
      "execution_count": 8,
      "outputs": [
        {
          "output_type": "stream",
          "name": "stdout",
          "text": [
            "a    0.0\n",
            "b    1.0\n",
            "c    2.0\n",
            "dtype: float64\n"
          ]
        }
      ]
    },
    {
      "cell_type": "markdown",
      "source": [
        "Observe − Dictionary keys are used to construct index."
      ],
      "metadata": {
        "id": "XWXE8cJAwE_8"
      }
    },
    {
      "cell_type": "code",
      "source": [
        "data = {'a' : 0., 'b' : 1., 'c' : 2.}\n",
        "s = pd.Series(data,index=['b','c','d','a'])\n",
        "print(s)"
      ],
      "metadata": {
        "colab": {
          "base_uri": "https://localhost:8080/"
        },
        "id": "x21NIEFGvvMV",
        "outputId": "71e48c39-de79-4acd-a7ae-9b9994884865"
      },
      "execution_count": 9,
      "outputs": [
        {
          "output_type": "stream",
          "name": "stdout",
          "text": [
            "b    1.0\n",
            "c    2.0\n",
            "d    NaN\n",
            "a    0.0\n",
            "dtype: float64\n"
          ]
        }
      ]
    },
    {
      "cell_type": "code",
      "source": [
        "#Create a Series from Scalar\n",
        "s = pd.Series(5, index=[0, 1, 2, 3])\n",
        "print(s)"
      ],
      "metadata": {
        "colab": {
          "base_uri": "https://localhost:8080/"
        },
        "id": "Af_g61v5wJDG",
        "outputId": "fa620545-7fd6-4c8c-ba47-ec4b1e3005c1"
      },
      "execution_count": 10,
      "outputs": [
        {
          "output_type": "stream",
          "name": "stdout",
          "text": [
            "0    5\n",
            "1    5\n",
            "2    5\n",
            "3    5\n",
            "dtype: int64\n"
          ]
        }
      ]
    },
    {
      "cell_type": "code",
      "source": [
        "s = pd.Series([1,2,3,4,5],index = ['a','b','c','d','e'])\n",
        "\n",
        "#retrieve the first element\n",
        "print(s['a'])"
      ],
      "metadata": {
        "colab": {
          "base_uri": "https://localhost:8080/"
        },
        "id": "W8nNwtmjwfRr",
        "outputId": "81163aa4-fb92-4f24-eca9-288f12f18be5"
      },
      "execution_count": 16,
      "outputs": [
        {
          "output_type": "stream",
          "name": "stdout",
          "text": [
            "1\n"
          ]
        }
      ]
    },
    {
      "cell_type": "code",
      "source": [
        "s = pd.Series([1,2,3,4,5],index = ['a','b','c','d','e'])\n",
        "\n",
        "#retrieve the first three element\n",
        "print(s[:3])"
      ],
      "metadata": {
        "colab": {
          "base_uri": "https://localhost:8080/"
        },
        "id": "Qf02WVVXwj0A",
        "outputId": "e01dd9dd-676f-4605-9ea3-7c6d5f8775d8"
      },
      "execution_count": 13,
      "outputs": [
        {
          "output_type": "stream",
          "name": "stdout",
          "text": [
            "a    1\n",
            "b    2\n",
            "c    3\n",
            "dtype: int64\n"
          ]
        }
      ]
    },
    {
      "cell_type": "code",
      "source": [],
      "metadata": {
        "id": "HtTuQKi8wr8t"
      },
      "execution_count": null,
      "outputs": []
    }
  ]
}